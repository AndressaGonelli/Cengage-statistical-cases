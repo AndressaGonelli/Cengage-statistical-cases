{
 "cells": [
  {
   "cell_type": "code",
   "execution_count": 1,
   "metadata": {},
   "outputs": [],
   "source": [
    "import pandas as pd\n",
    "import seaborn as sns\n",
    "import numpy as np"
   ]
  },
  {
   "cell_type": "code",
   "execution_count": 2,
   "metadata": {},
   "outputs": [],
   "source": [
    "df = pd.read_csv('Pelican.csv', delimiter=';') "
   ]
  },
  {
   "cell_type": "code",
   "execution_count": 3,
   "metadata": {},
   "outputs": [
    {
     "data": {
      "text/html": [
       "<div>\n",
       "<style scoped>\n",
       "    .dataframe tbody tr th:only-of-type {\n",
       "        vertical-align: middle;\n",
       "    }\n",
       "\n",
       "    .dataframe tbody tr th {\n",
       "        vertical-align: top;\n",
       "    }\n",
       "\n",
       "    .dataframe thead th {\n",
       "        text-align: right;\n",
       "    }\n",
       "</style>\n",
       "<table border=\"1\" class=\"dataframe\">\n",
       "  <thead>\n",
       "    <tr style=\"text-align: right;\">\n",
       "      <th></th>\n",
       "      <th>Customer</th>\n",
       "      <th>Method of Payment</th>\n",
       "      <th>Items</th>\n",
       "      <th>Discount</th>\n",
       "      <th>Sales</th>\n",
       "      <th>Gender</th>\n",
       "      <th>Marital Status</th>\n",
       "      <th>Age</th>\n",
       "      <th>Desconto?</th>\n",
       "      <th>Desconto?.1</th>\n",
       "    </tr>\n",
       "  </thead>\n",
       "  <tbody>\n",
       "    <tr>\n",
       "      <th>0</th>\n",
       "      <td>1</td>\n",
       "      <td>Discover</td>\n",
       "      <td>1</td>\n",
       "      <td>0.0</td>\n",
       "      <td>39.5</td>\n",
       "      <td>Male</td>\n",
       "      <td>Married</td>\n",
       "      <td>32</td>\n",
       "      <td>Não</td>\n",
       "      <td>Não</td>\n",
       "    </tr>\n",
       "    <tr>\n",
       "      <th>1</th>\n",
       "      <td>2</td>\n",
       "      <td>Proprietary Card</td>\n",
       "      <td>1</td>\n",
       "      <td>25.6</td>\n",
       "      <td>102.4</td>\n",
       "      <td>Female</td>\n",
       "      <td>Married</td>\n",
       "      <td>36</td>\n",
       "      <td>Sim</td>\n",
       "      <td>Sim</td>\n",
       "    </tr>\n",
       "    <tr>\n",
       "      <th>2</th>\n",
       "      <td>3</td>\n",
       "      <td>Proprietary Card</td>\n",
       "      <td>1</td>\n",
       "      <td>0.0</td>\n",
       "      <td>22.5</td>\n",
       "      <td>Female</td>\n",
       "      <td>Married</td>\n",
       "      <td>32</td>\n",
       "      <td>Não</td>\n",
       "      <td>Não</td>\n",
       "    </tr>\n",
       "    <tr>\n",
       "      <th>3</th>\n",
       "      <td>4</td>\n",
       "      <td>Proprietary Card</td>\n",
       "      <td>5</td>\n",
       "      <td>121.1</td>\n",
       "      <td>100.4</td>\n",
       "      <td>Female</td>\n",
       "      <td>Married</td>\n",
       "      <td>28</td>\n",
       "      <td>Sim</td>\n",
       "      <td>Sim</td>\n",
       "    </tr>\n",
       "    <tr>\n",
       "      <th>4</th>\n",
       "      <td>5</td>\n",
       "      <td>Mastercard</td>\n",
       "      <td>2</td>\n",
       "      <td>0.0</td>\n",
       "      <td>54.0</td>\n",
       "      <td>Female</td>\n",
       "      <td>Married</td>\n",
       "      <td>34</td>\n",
       "      <td>Não</td>\n",
       "      <td>Não</td>\n",
       "    </tr>\n",
       "  </tbody>\n",
       "</table>\n",
       "</div>"
      ],
      "text/plain": [
       "   Customer Method of Payment  Items  Discount   Sales  Gender Marital Status  \\\n",
       "0         1          Discover      1        0.0   39.5    Male        Married   \n",
       "1         2  Proprietary Card      1       25.6  102.4  Female        Married   \n",
       "2         3  Proprietary Card      1        0.0   22.5  Female        Married   \n",
       "3         4  Proprietary Card      5      121.1  100.4  Female        Married   \n",
       "4         5        Mastercard      2        0.0   54.0  Female        Married   \n",
       "\n",
       "   Age Desconto? Desconto?.1  \n",
       "0   32       Não         Não  \n",
       "1   36       Sim         Sim  \n",
       "2   32       Não         Não  \n",
       "3   28       Sim         Sim  \n",
       "4   34       Não         Não  "
      ]
     },
     "execution_count": 3,
     "metadata": {},
     "output_type": "execute_result"
    }
   ],
   "source": [
    "df.head()"
   ]
  },
  {
   "cell_type": "code",
   "execution_count": 4,
   "metadata": {},
   "outputs": [],
   "source": [
    "df['Desconto'] =  np.where(df['Discount '] == 0 , 0, 1)"
   ]
  },
  {
   "cell_type": "code",
   "execution_count": 5,
   "metadata": {},
   "outputs": [
    {
     "data": {
      "text/html": [
       "<div>\n",
       "<style scoped>\n",
       "    .dataframe tbody tr th:only-of-type {\n",
       "        vertical-align: middle;\n",
       "    }\n",
       "\n",
       "    .dataframe tbody tr th {\n",
       "        vertical-align: top;\n",
       "    }\n",
       "\n",
       "    .dataframe thead th {\n",
       "        text-align: right;\n",
       "    }\n",
       "</style>\n",
       "<table border=\"1\" class=\"dataframe\">\n",
       "  <thead>\n",
       "    <tr style=\"text-align: right;\">\n",
       "      <th></th>\n",
       "      <th>Customer</th>\n",
       "      <th>Method of Payment</th>\n",
       "      <th>Items</th>\n",
       "      <th>Discount</th>\n",
       "      <th>Sales</th>\n",
       "      <th>Gender</th>\n",
       "      <th>Marital Status</th>\n",
       "      <th>Age</th>\n",
       "      <th>Desconto?</th>\n",
       "      <th>Desconto?.1</th>\n",
       "      <th>Desconto</th>\n",
       "    </tr>\n",
       "  </thead>\n",
       "  <tbody>\n",
       "    <tr>\n",
       "      <th>0</th>\n",
       "      <td>1</td>\n",
       "      <td>Discover</td>\n",
       "      <td>1</td>\n",
       "      <td>0.0</td>\n",
       "      <td>39.5</td>\n",
       "      <td>Male</td>\n",
       "      <td>Married</td>\n",
       "      <td>32</td>\n",
       "      <td>Não</td>\n",
       "      <td>Não</td>\n",
       "      <td>0</td>\n",
       "    </tr>\n",
       "    <tr>\n",
       "      <th>1</th>\n",
       "      <td>2</td>\n",
       "      <td>Proprietary Card</td>\n",
       "      <td>1</td>\n",
       "      <td>25.6</td>\n",
       "      <td>102.4</td>\n",
       "      <td>Female</td>\n",
       "      <td>Married</td>\n",
       "      <td>36</td>\n",
       "      <td>Sim</td>\n",
       "      <td>Sim</td>\n",
       "      <td>1</td>\n",
       "    </tr>\n",
       "    <tr>\n",
       "      <th>2</th>\n",
       "      <td>3</td>\n",
       "      <td>Proprietary Card</td>\n",
       "      <td>1</td>\n",
       "      <td>0.0</td>\n",
       "      <td>22.5</td>\n",
       "      <td>Female</td>\n",
       "      <td>Married</td>\n",
       "      <td>32</td>\n",
       "      <td>Não</td>\n",
       "      <td>Não</td>\n",
       "      <td>0</td>\n",
       "    </tr>\n",
       "    <tr>\n",
       "      <th>3</th>\n",
       "      <td>4</td>\n",
       "      <td>Proprietary Card</td>\n",
       "      <td>5</td>\n",
       "      <td>121.1</td>\n",
       "      <td>100.4</td>\n",
       "      <td>Female</td>\n",
       "      <td>Married</td>\n",
       "      <td>28</td>\n",
       "      <td>Sim</td>\n",
       "      <td>Sim</td>\n",
       "      <td>1</td>\n",
       "    </tr>\n",
       "    <tr>\n",
       "      <th>4</th>\n",
       "      <td>5</td>\n",
       "      <td>Mastercard</td>\n",
       "      <td>2</td>\n",
       "      <td>0.0</td>\n",
       "      <td>54.0</td>\n",
       "      <td>Female</td>\n",
       "      <td>Married</td>\n",
       "      <td>34</td>\n",
       "      <td>Não</td>\n",
       "      <td>Não</td>\n",
       "      <td>0</td>\n",
       "    </tr>\n",
       "  </tbody>\n",
       "</table>\n",
       "</div>"
      ],
      "text/plain": [
       "   Customer Method of Payment  Items  Discount   Sales  Gender Marital Status  \\\n",
       "0         1          Discover      1        0.0   39.5    Male        Married   \n",
       "1         2  Proprietary Card      1       25.6  102.4  Female        Married   \n",
       "2         3  Proprietary Card      1        0.0   22.5  Female        Married   \n",
       "3         4  Proprietary Card      5      121.1  100.4  Female        Married   \n",
       "4         5        Mastercard      2        0.0   54.0  Female        Married   \n",
       "\n",
       "   Age Desconto? Desconto?.1  Desconto  \n",
       "0   32       Não         Não         0  \n",
       "1   36       Sim         Sim         1  \n",
       "2   32       Não         Não         0  \n",
       "3   28       Sim         Sim         1  \n",
       "4   34       Não         Não         0  "
      ]
     },
     "execution_count": 5,
     "metadata": {},
     "output_type": "execute_result"
    }
   ],
   "source": [
    "df.head()"
   ]
  },
  {
   "cell_type": "code",
   "execution_count": 6,
   "metadata": {},
   "outputs": [],
   "source": [
    "#np.where??"
   ]
  },
  {
   "cell_type": "code",
   "execution_count": 7,
   "metadata": {},
   "outputs": [],
   "source": [
    "#1 - Distribuicao de frequencia percentual para as variaveis chave."
   ]
  },
  {
   "cell_type": "code",
   "execution_count": 63,
   "metadata": {},
   "outputs": [
    {
     "data": {
      "text/html": [
       "<div>\n",
       "<style scoped>\n",
       "    .dataframe tbody tr th:only-of-type {\n",
       "        vertical-align: middle;\n",
       "    }\n",
       "\n",
       "    .dataframe tbody tr th {\n",
       "        vertical-align: top;\n",
       "    }\n",
       "\n",
       "    .dataframe thead th {\n",
       "        text-align: right;\n",
       "    }\n",
       "</style>\n",
       "<table border=\"1\" class=\"dataframe\">\n",
       "  <thead>\n",
       "    <tr style=\"text-align: right;\">\n",
       "      <th></th>\n",
       "      <th>count</th>\n",
       "      <th>mean</th>\n",
       "      <th>std</th>\n",
       "      <th>min</th>\n",
       "      <th>25%</th>\n",
       "      <th>50%</th>\n",
       "      <th>75%</th>\n",
       "      <th>max</th>\n",
       "    </tr>\n",
       "  </thead>\n",
       "  <tbody>\n",
       "    <tr>\n",
       "      <th>Customer</th>\n",
       "      <td>100.0</td>\n",
       "      <td>50.5000</td>\n",
       "      <td>29.011492</td>\n",
       "      <td>1.00</td>\n",
       "      <td>25.75</td>\n",
       "      <td>50.500</td>\n",
       "      <td>75.25</td>\n",
       "      <td>100.00</td>\n",
       "    </tr>\n",
       "    <tr>\n",
       "      <th>Items</th>\n",
       "      <td>100.0</td>\n",
       "      <td>3.2200</td>\n",
       "      <td>2.736140</td>\n",
       "      <td>1.00</td>\n",
       "      <td>1.00</td>\n",
       "      <td>2.000</td>\n",
       "      <td>4.00</td>\n",
       "      <td>17.00</td>\n",
       "    </tr>\n",
       "    <tr>\n",
       "      <th>Discount</th>\n",
       "      <td>100.0</td>\n",
       "      <td>22.4518</td>\n",
       "      <td>28.381720</td>\n",
       "      <td>0.00</td>\n",
       "      <td>0.00</td>\n",
       "      <td>15.000</td>\n",
       "      <td>31.25</td>\n",
       "      <td>158.30</td>\n",
       "    </tr>\n",
       "    <tr>\n",
       "      <th>Sales</th>\n",
       "      <td>100.0</td>\n",
       "      <td>77.6005</td>\n",
       "      <td>55.664938</td>\n",
       "      <td>13.23</td>\n",
       "      <td>39.60</td>\n",
       "      <td>59.705</td>\n",
       "      <td>100.90</td>\n",
       "      <td>287.59</td>\n",
       "    </tr>\n",
       "    <tr>\n",
       "      <th>Age</th>\n",
       "      <td>100.0</td>\n",
       "      <td>43.0800</td>\n",
       "      <td>12.389047</td>\n",
       "      <td>20.00</td>\n",
       "      <td>32.00</td>\n",
       "      <td>42.000</td>\n",
       "      <td>50.00</td>\n",
       "      <td>78.00</td>\n",
       "    </tr>\n",
       "    <tr>\n",
       "      <th>Desconto</th>\n",
       "      <td>100.0</td>\n",
       "      <td>0.7000</td>\n",
       "      <td>0.460566</td>\n",
       "      <td>0.00</td>\n",
       "      <td>0.00</td>\n",
       "      <td>1.000</td>\n",
       "      <td>1.00</td>\n",
       "      <td>1.00</td>\n",
       "    </tr>\n",
       "  </tbody>\n",
       "</table>\n",
       "</div>"
      ],
      "text/plain": [
       "           count     mean        std    min    25%     50%     75%     max\n",
       "Customer   100.0  50.5000  29.011492   1.00  25.75  50.500   75.25  100.00\n",
       "Items      100.0   3.2200   2.736140   1.00   1.00   2.000    4.00   17.00\n",
       "Discount   100.0  22.4518  28.381720   0.00   0.00  15.000   31.25  158.30\n",
       "Sales      100.0  77.6005  55.664938  13.23  39.60  59.705  100.90  287.59\n",
       "Age        100.0  43.0800  12.389047  20.00  32.00  42.000   50.00   78.00\n",
       "Desconto   100.0   0.7000   0.460566   0.00   0.00   1.000    1.00    1.00"
      ]
     },
     "execution_count": 63,
     "metadata": {},
     "output_type": "execute_result"
    }
   ],
   "source": [
    "df.describe().T"
   ]
  },
  {
   "cell_type": "code",
   "execution_count": 9,
   "metadata": {},
   "outputs": [
    {
     "data": {
      "image/png": "[encoded data removed]",
      "text/plain": [
       "<Figure size 432x288 with 1 Axes>"
      ]
     },
     "metadata": {
      "needs_background": "light"
     },
     "output_type": "display_data"
    }
   ],
   "source": [
    "Marital_status = sns.countplot(df['Marital Status'])\n"
   ]
  },
  {
   "cell_type": "code",
   "execution_count": 10,
   "metadata": {},
   "outputs": [
    {
     "data": {
      "image/png": "[encoded data removed]",
      "text/plain": [
       "<Figure size 432x288 with 1 Axes>"
      ]
     },
     "metadata": {
      "needs_background": "light"
     },
     "output_type": "display_data"
    }
   ],
   "source": [
    "Payment = sns.countplot(df['Method of Payment'])"
   ]
  },
  {
   "cell_type": "code",
   "execution_count": 11,
   "metadata": {},
   "outputs": [
    {
     "data": {
      "image/png": "[encoded data removed]",
      "text/plain": [
       "<Figure size 432x288 with 1 Axes>"
      ]
     },
     "metadata": {
      "needs_background": "light"
     },
     "output_type": "display_data"
    }
   ],
   "source": [
    "Discount = sns.countplot(df['Desconto'])"
   ]
  },
  {
   "cell_type": "code",
   "execution_count": 12,
   "metadata": {},
   "outputs": [
    {
     "data": {
      "text/plain": [
       "<matplotlib.axes._subplots.AxesSubplot at 0x7faf5b1272b0>"
      ]
     },
     "execution_count": 12,
     "metadata": {},
     "output_type": "execute_result"
    },
    {
     "data": {
      "image/png": "[encoded data removed]",
      "text/plain": [
       "<Figure size 432x288 with 1 Axes>"
      ]
     },
     "metadata": {
      "needs_background": "light"
     },
     "output_type": "display_data"
    }
   ],
   "source": [
    "sns.boxplot(data=df,x=\"Items\",orient=\"v\")"
   ]
  },
  {
   "cell_type": "code",
   "execution_count": 13,
   "metadata": {},
   "outputs": [
    {
     "data": {
      "text/plain": [
       "<matplotlib.axes._subplots.AxesSubplot at 0x7faf5b0e5320>"
      ]
     },
     "execution_count": 13,
     "metadata": {},
     "output_type": "execute_result"
    },
    {
     "data": {
      "image/png": "[encoded data removed]",
      "text/plain": [
       "<Figure size 432x288 with 1 Axes>"
      ]
     },
     "metadata": {
      "needs_background": "light"
     },
     "output_type": "display_data"
    }
   ],
   "source": [
    "sns.boxplot(data=df,x=\"Discount \",orient=\"v\")"
   ]
  },
  {
   "cell_type": "code",
   "execution_count": 14,
   "metadata": {},
   "outputs": [
    {
     "data": {
      "text/plain": [
       "<matplotlib.axes._subplots.AxesSubplot at 0x7faf5b08e940>"
      ]
     },
     "execution_count": 14,
     "metadata": {},
     "output_type": "execute_result"
    },
    {
     "data": {
      "image/png": "[encoded data removed]",
      "text/plain": [
       "<Figure size 432x288 with 1 Axes>"
      ]
     },
     "metadata": {
      "needs_background": "light"
     },
     "output_type": "display_data"
    }
   ],
   "source": [
    "sns.distplot(df['Items'])\n"
   ]
  },
  {
   "cell_type": "code",
   "execution_count": 15,
   "metadata": {},
   "outputs": [
    {
     "data": {
      "text/html": [
       "<div>\n",
       "<style scoped>\n",
       "    .dataframe tbody tr th:only-of-type {\n",
       "        vertical-align: middle;\n",
       "    }\n",
       "\n",
       "    .dataframe tbody tr th {\n",
       "        vertical-align: top;\n",
       "    }\n",
       "\n",
       "    .dataframe thead th {\n",
       "        text-align: right;\n",
       "    }\n",
       "</style>\n",
       "<table border=\"1\" class=\"dataframe\">\n",
       "  <thead>\n",
       "    <tr style=\"text-align: right;\">\n",
       "      <th>col_0</th>\n",
       "      <th>count</th>\n",
       "    </tr>\n",
       "    <tr>\n",
       "      <th>Gender</th>\n",
       "      <th></th>\n",
       "    </tr>\n",
       "  </thead>\n",
       "  <tbody>\n",
       "    <tr>\n",
       "      <th>Female</th>\n",
       "      <td>93</td>\n",
       "    </tr>\n",
       "    <tr>\n",
       "      <th>Male</th>\n",
       "      <td>7</td>\n",
       "    </tr>\n",
       "  </tbody>\n",
       "</table>\n",
       "</div>"
      ],
      "text/plain": [
       "col_0   count\n",
       "Gender       \n",
       "Female     93\n",
       "Male        7"
      ]
     },
     "execution_count": 15,
     "metadata": {},
     "output_type": "execute_result"
    }
   ],
   "source": [
    "pd.crosstab(index = df['Gender'], columns=['count'])               \n"
   ]
  },
  {
   "cell_type": "code",
   "execution_count": 16,
   "metadata": {},
   "outputs": [
    {
     "data": {
      "text/html": [
       "<div>\n",
       "<style scoped>\n",
       "    .dataframe tbody tr th:only-of-type {\n",
       "        vertical-align: middle;\n",
       "    }\n",
       "\n",
       "    .dataframe tbody tr th {\n",
       "        vertical-align: top;\n",
       "    }\n",
       "\n",
       "    .dataframe thead th {\n",
       "        text-align: right;\n",
       "    }\n",
       "</style>\n",
       "<table border=\"1\" class=\"dataframe\">\n",
       "  <thead>\n",
       "    <tr style=\"text-align: right;\">\n",
       "      <th>col_0</th>\n",
       "      <th>count</th>\n",
       "    </tr>\n",
       "    <tr>\n",
       "      <th>Desconto?</th>\n",
       "      <th></th>\n",
       "    </tr>\n",
       "  </thead>\n",
       "  <tbody>\n",
       "    <tr>\n",
       "      <th>Não</th>\n",
       "      <td>30</td>\n",
       "    </tr>\n",
       "    <tr>\n",
       "      <th>Sim</th>\n",
       "      <td>70</td>\n",
       "    </tr>\n",
       "  </tbody>\n",
       "</table>\n",
       "</div>"
      ],
      "text/plain": [
       "col_0      count\n",
       "Desconto?       \n",
       "Não           30\n",
       "Sim           70"
      ]
     },
     "execution_count": 16,
     "metadata": {},
     "output_type": "execute_result"
    }
   ],
   "source": [
    "pd.crosstab(index = df['Desconto?'], columns=['count'])    "
   ]
  },
  {
   "cell_type": "code",
   "execution_count": 17,
   "metadata": {},
   "outputs": [
    {
     "data": {
      "text/html": [
       "<div>\n",
       "<style scoped>\n",
       "    .dataframe tbody tr th:only-of-type {\n",
       "        vertical-align: middle;\n",
       "    }\n",
       "\n",
       "    .dataframe tbody tr th {\n",
       "        vertical-align: top;\n",
       "    }\n",
       "\n",
       "    .dataframe thead th {\n",
       "        text-align: right;\n",
       "    }\n",
       "</style>\n",
       "<table border=\"1\" class=\"dataframe\">\n",
       "  <thead>\n",
       "    <tr style=\"text-align: right;\">\n",
       "      <th></th>\n",
       "      <th>Customer</th>\n",
       "      <th>Items</th>\n",
       "      <th>Discount</th>\n",
       "      <th>Sales</th>\n",
       "      <th>Age</th>\n",
       "      <th>Desconto</th>\n",
       "    </tr>\n",
       "    <tr>\n",
       "      <th>Marital Status</th>\n",
       "      <th></th>\n",
       "      <th></th>\n",
       "      <th></th>\n",
       "      <th></th>\n",
       "      <th></th>\n",
       "      <th></th>\n",
       "    </tr>\n",
       "  </thead>\n",
       "  <tbody>\n",
       "    <tr>\n",
       "      <th>Married</th>\n",
       "      <td>50.666667</td>\n",
       "      <td>3.357143</td>\n",
       "      <td>23.421310</td>\n",
       "      <td>78.029048</td>\n",
       "      <td>44.500</td>\n",
       "      <td>0.72619</td>\n",
       "    </tr>\n",
       "    <tr>\n",
       "      <th>Single</th>\n",
       "      <td>49.625000</td>\n",
       "      <td>2.500000</td>\n",
       "      <td>17.361875</td>\n",
       "      <td>75.350625</td>\n",
       "      <td>35.625</td>\n",
       "      <td>0.56250</td>\n",
       "    </tr>\n",
       "  </tbody>\n",
       "</table>\n",
       "</div>"
      ],
      "text/plain": [
       "                 Customer     Items  Discount       Sales     Age  Desconto\n",
       "Marital Status                                                             \n",
       "Married         50.666667  3.357143  23.421310  78.029048  44.500   0.72619\n",
       "Single          49.625000  2.500000  17.361875  75.350625  35.625   0.56250"
      ]
     },
     "execution_count": 17,
     "metadata": {},
     "output_type": "execute_result"
    }
   ],
   "source": [
    "df.groupby('Marital Status').mean()"
   ]
  },
  {
   "cell_type": "code",
   "execution_count": 18,
   "metadata": {},
   "outputs": [
    {
     "data": {
      "text/html": [
       "<div>\n",
       "<style scoped>\n",
       "    .dataframe tbody tr th:only-of-type {\n",
       "        vertical-align: middle;\n",
       "    }\n",
       "\n",
       "    .dataframe tbody tr th {\n",
       "        vertical-align: top;\n",
       "    }\n",
       "\n",
       "    .dataframe thead th {\n",
       "        text-align: right;\n",
       "    }\n",
       "</style>\n",
       "<table border=\"1\" class=\"dataframe\">\n",
       "  <thead>\n",
       "    <tr style=\"text-align: right;\">\n",
       "      <th></th>\n",
       "      <th>Items</th>\n",
       "      <th>Discount</th>\n",
       "      <th>Sales</th>\n",
       "      <th>Desconto</th>\n",
       "    </tr>\n",
       "    <tr>\n",
       "      <th>Marital Status</th>\n",
       "      <th></th>\n",
       "      <th></th>\n",
       "      <th></th>\n",
       "      <th></th>\n",
       "    </tr>\n",
       "  </thead>\n",
       "  <tbody>\n",
       "    <tr>\n",
       "      <th>Married</th>\n",
       "      <td>282</td>\n",
       "      <td>1967.39</td>\n",
       "      <td>6554.44</td>\n",
       "      <td>61</td>\n",
       "    </tr>\n",
       "    <tr>\n",
       "      <th>Single</th>\n",
       "      <td>40</td>\n",
       "      <td>277.79</td>\n",
       "      <td>1205.61</td>\n",
       "      <td>9</td>\n",
       "    </tr>\n",
       "  </tbody>\n",
       "</table>\n",
       "</div>"
      ],
      "text/plain": [
       "                Items  Discount     Sales  Desconto\n",
       "Marital Status                                     \n",
       "Married           282    1967.39  6554.44        61\n",
       "Single             40     277.79  1205.61         9"
      ]
     },
     "execution_count": 18,
     "metadata": {},
     "output_type": "execute_result"
    }
   ],
   "source": [
    "df[['Items','Discount ','Sales','Marital Status','Desconto']].groupby('Marital Status').sum()"
   ]
  },
  {
   "cell_type": "code",
   "execution_count": 19,
   "metadata": {},
   "outputs": [],
   "source": [
    "a = np.sort(df.Age)\n",
    "bins =  np.arange(df.Age.min(),df.Age.max(),10)\n",
    "ind = np.digitize(df['Age'],bins)"
   ]
  },
  {
   "cell_type": "code",
   "execution_count": 20,
   "metadata": {},
   "outputs": [
    {
     "data": {
      "text/html": [
       "<div>\n",
       "<style scoped>\n",
       "    .dataframe tbody tr th:only-of-type {\n",
       "        vertical-align: middle;\n",
       "    }\n",
       "\n",
       "    .dataframe tbody tr th {\n",
       "        vertical-align: top;\n",
       "    }\n",
       "\n",
       "    .dataframe thead th {\n",
       "        text-align: right;\n",
       "    }\n",
       "</style>\n",
       "<table border=\"1\" class=\"dataframe\">\n",
       "  <thead>\n",
       "    <tr style=\"text-align: right;\">\n",
       "      <th></th>\n",
       "      <th>Items</th>\n",
       "      <th>Discount</th>\n",
       "      <th>Sales</th>\n",
       "      <th>Desconto</th>\n",
       "    </tr>\n",
       "    <tr>\n",
       "      <th>Age</th>\n",
       "      <th></th>\n",
       "      <th></th>\n",
       "      <th></th>\n",
       "      <th></th>\n",
       "    </tr>\n",
       "  </thead>\n",
       "  <tbody>\n",
       "    <tr>\n",
       "      <th>(20, 30]</th>\n",
       "      <td>69</td>\n",
       "      <td>634.34</td>\n",
       "      <td>1605.81</td>\n",
       "      <td>14</td>\n",
       "    </tr>\n",
       "    <tr>\n",
       "      <th>(30, 40]</th>\n",
       "      <td>66</td>\n",
       "      <td>470.53</td>\n",
       "      <td>1675.96</td>\n",
       "      <td>16</td>\n",
       "    </tr>\n",
       "    <tr>\n",
       "      <th>(40, 50]</th>\n",
       "      <td>107</td>\n",
       "      <td>598.26</td>\n",
       "      <td>2529.49</td>\n",
       "      <td>21</td>\n",
       "    </tr>\n",
       "    <tr>\n",
       "      <th>(50, 60]</th>\n",
       "      <td>55</td>\n",
       "      <td>382.81</td>\n",
       "      <td>1220.28</td>\n",
       "      <td>11</td>\n",
       "    </tr>\n",
       "    <tr>\n",
       "      <th>(60, 70]</th>\n",
       "      <td>14</td>\n",
       "      <td>137.06</td>\n",
       "      <td>359.94</td>\n",
       "      <td>6</td>\n",
       "    </tr>\n",
       "  </tbody>\n",
       "</table>\n",
       "</div>"
      ],
      "text/plain": [
       "          Items  Discount     Sales  Desconto\n",
       "Age                                          \n",
       "(20, 30]     69     634.34  1605.81        14\n",
       "(30, 40]     66     470.53  1675.96        16\n",
       "(40, 50]    107     598.26  2529.49        21\n",
       "(50, 60]     55     382.81  1220.28        11\n",
       "(60, 70]     14     137.06   359.94         6"
      ]
     },
     "execution_count": 20,
     "metadata": {},
     "output_type": "execute_result"
    }
   ],
   "source": [
    "#df[['Items','Discount ','Sales','Age']].groupby('', by=bins).mean()\n",
    "\n",
    "df[['Items','Discount ','Sales', 'Desconto']].groupby(pd.cut(df[\"Age\"], np.arange(df.Age.min(),df.Age.max(),10))).sum()"
   ]
  },
  {
   "cell_type": "code",
   "execution_count": 21,
   "metadata": {},
   "outputs": [
    {
     "data": {
      "text/plain": [
       "<matplotlib.axes._subplots.AxesSubplot at 0x7faf5b077be0>"
      ]
     },
     "execution_count": 21,
     "metadata": {},
     "output_type": "execute_result"
    },
    {
     "data": {
      "image/png": "[encoded data removed]",
      "text/plain": [
       "<Figure size 432x288 with 1 Axes>"
      ]
     },
     "metadata": {
      "needs_background": "light"
     },
     "output_type": "display_data"
    }
   ],
   "source": [
    "sns.distplot(df['Age'])\n"
   ]
  },
  {
   "cell_type": "code",
   "execution_count": 22,
   "metadata": {},
   "outputs": [
    {
     "data": {
      "text/html": [
       "<div>\n",
       "<style scoped>\n",
       "    .dataframe tbody tr th:only-of-type {\n",
       "        vertical-align: middle;\n",
       "    }\n",
       "\n",
       "    .dataframe tbody tr th {\n",
       "        vertical-align: top;\n",
       "    }\n",
       "\n",
       "    .dataframe thead th {\n",
       "        text-align: right;\n",
       "    }\n",
       "</style>\n",
       "<table border=\"1\" class=\"dataframe\">\n",
       "  <thead>\n",
       "    <tr style=\"text-align: right;\">\n",
       "      <th></th>\n",
       "      <th>Items</th>\n",
       "      <th>Discount</th>\n",
       "      <th>Sales</th>\n",
       "    </tr>\n",
       "    <tr>\n",
       "      <th>Desconto</th>\n",
       "      <th></th>\n",
       "      <th></th>\n",
       "      <th></th>\n",
       "    </tr>\n",
       "  </thead>\n",
       "  <tbody>\n",
       "    <tr>\n",
       "      <th>0</th>\n",
       "      <td>56</td>\n",
       "      <td>0.00</td>\n",
       "      <td>1859.75</td>\n",
       "    </tr>\n",
       "    <tr>\n",
       "      <th>1</th>\n",
       "      <td>266</td>\n",
       "      <td>2245.18</td>\n",
       "      <td>5900.30</td>\n",
       "    </tr>\n",
       "  </tbody>\n",
       "</table>\n",
       "</div>"
      ],
      "text/plain": [
       "          Items  Discount     Sales\n",
       "Desconto                           \n",
       "0            56       0.00  1859.75\n",
       "1           266    2245.18  5900.30"
      ]
     },
     "execution_count": 22,
     "metadata": {},
     "output_type": "execute_result"
    }
   ],
   "source": [
    "df[['Items','Discount ','Sales', 'Desconto']].groupby('Desconto').sum()"
   ]
  },
  {
   "cell_type": "code",
   "execution_count": 53,
   "metadata": {},
   "outputs": [],
   "source": [
    "df['age_bin'] = pd.cut(df[\"Age\"], np.arange(df.Age.min()-10,df.Age.max()+10,10)) "
   ]
  },
  {
   "cell_type": "code",
   "execution_count": 77,
   "metadata": {},
   "outputs": [
    {
     "data": {
      "text/html": [
       "<div>\n",
       "<style scoped>\n",
       "    .dataframe tbody tr th:only-of-type {\n",
       "        vertical-align: middle;\n",
       "    }\n",
       "\n",
       "    .dataframe tbody tr th {\n",
       "        vertical-align: top;\n",
       "    }\n",
       "\n",
       "    .dataframe thead tr th {\n",
       "        text-align: left;\n",
       "    }\n",
       "\n",
       "    .dataframe thead tr:last-of-type th {\n",
       "        text-align: right;\n",
       "    }\n",
       "</style>\n",
       "<table border=\"1\" class=\"dataframe\">\n",
       "  <thead>\n",
       "    <tr>\n",
       "      <th></th>\n",
       "      <th></th>\n",
       "      <th colspan=\"4\" halign=\"left\">Items</th>\n",
       "      <th colspan=\"4\" halign=\"left\">Discount</th>\n",
       "      <th colspan=\"4\" halign=\"left\">Sales</th>\n",
       "    </tr>\n",
       "    <tr>\n",
       "      <th></th>\n",
       "      <th></th>\n",
       "      <th>count_nonzero</th>\n",
       "      <th>sum</th>\n",
       "      <th>mean</th>\n",
       "      <th>std</th>\n",
       "      <th>count_nonzero</th>\n",
       "      <th>sum</th>\n",
       "      <th>mean</th>\n",
       "      <th>std</th>\n",
       "      <th>count_nonzero</th>\n",
       "      <th>sum</th>\n",
       "      <th>mean</th>\n",
       "      <th>std</th>\n",
       "    </tr>\n",
       "    <tr>\n",
       "      <th>Desconto</th>\n",
       "      <th>age_bin</th>\n",
       "      <th></th>\n",
       "      <th></th>\n",
       "      <th></th>\n",
       "      <th></th>\n",
       "      <th></th>\n",
       "      <th></th>\n",
       "      <th></th>\n",
       "      <th></th>\n",
       "      <th></th>\n",
       "      <th></th>\n",
       "      <th></th>\n",
       "      <th></th>\n",
       "    </tr>\n",
       "  </thead>\n",
       "  <tbody>\n",
       "    <tr>\n",
       "      <th rowspan=\"6\" valign=\"top\">0</th>\n",
       "      <th>(10, 20]</th>\n",
       "      <td>1</td>\n",
       "      <td>2</td>\n",
       "      <td>2.000000</td>\n",
       "      <td>NaN</td>\n",
       "      <td>0.0</td>\n",
       "      <td>0.00</td>\n",
       "      <td>0.000000</td>\n",
       "      <td>NaN</td>\n",
       "      <td>1.0</td>\n",
       "      <td>74.00</td>\n",
       "      <td>74.000000</td>\n",
       "      <td>NaN</td>\n",
       "    </tr>\n",
       "    <tr>\n",
       "      <th>(20, 30]</th>\n",
       "      <td>2</td>\n",
       "      <td>2</td>\n",
       "      <td>1.000000</td>\n",
       "      <td>0.000000</td>\n",
       "      <td>0.0</td>\n",
       "      <td>0.00</td>\n",
       "      <td>0.000000</td>\n",
       "      <td>0.000000</td>\n",
       "      <td>2.0</td>\n",
       "      <td>118.50</td>\n",
       "      <td>59.250000</td>\n",
       "      <td>13.788582</td>\n",
       "    </tr>\n",
       "    <tr>\n",
       "      <th>(30, 40]</th>\n",
       "      <td>10</td>\n",
       "      <td>17</td>\n",
       "      <td>1.700000</td>\n",
       "      <td>1.059350</td>\n",
       "      <td>0.0</td>\n",
       "      <td>0.00</td>\n",
       "      <td>0.000000</td>\n",
       "      <td>0.000000</td>\n",
       "      <td>10.0</td>\n",
       "      <td>463.50</td>\n",
       "      <td>46.350000</td>\n",
       "      <td>24.325398</td>\n",
       "    </tr>\n",
       "    <tr>\n",
       "      <th>(40, 50]</th>\n",
       "      <td>11</td>\n",
       "      <td>23</td>\n",
       "      <td>2.090909</td>\n",
       "      <td>1.445998</td>\n",
       "      <td>0.0</td>\n",
       "      <td>0.00</td>\n",
       "      <td>0.000000</td>\n",
       "      <td>0.000000</td>\n",
       "      <td>11.0</td>\n",
       "      <td>725.00</td>\n",
       "      <td>65.909091</td>\n",
       "      <td>40.626850</td>\n",
       "    </tr>\n",
       "    <tr>\n",
       "      <th>(50, 60]</th>\n",
       "      <td>4</td>\n",
       "      <td>6</td>\n",
       "      <td>1.500000</td>\n",
       "      <td>0.577350</td>\n",
       "      <td>0.0</td>\n",
       "      <td>0.00</td>\n",
       "      <td>0.000000</td>\n",
       "      <td>0.000000</td>\n",
       "      <td>4.0</td>\n",
       "      <td>261.00</td>\n",
       "      <td>65.250000</td>\n",
       "      <td>20.430777</td>\n",
       "    </tr>\n",
       "    <tr>\n",
       "      <th>(70, 80]</th>\n",
       "      <td>2</td>\n",
       "      <td>6</td>\n",
       "      <td>3.000000</td>\n",
       "      <td>2.828427</td>\n",
       "      <td>0.0</td>\n",
       "      <td>0.00</td>\n",
       "      <td>0.000000</td>\n",
       "      <td>0.000000</td>\n",
       "      <td>2.0</td>\n",
       "      <td>217.75</td>\n",
       "      <td>108.875000</td>\n",
       "      <td>71.948115</td>\n",
       "    </tr>\n",
       "    <tr>\n",
       "      <th rowspan=\"7\" valign=\"top\">1</th>\n",
       "      <th>(10, 20]</th>\n",
       "      <td>1</td>\n",
       "      <td>1</td>\n",
       "      <td>1.000000</td>\n",
       "      <td>NaN</td>\n",
       "      <td>1.0</td>\n",
       "      <td>7.90</td>\n",
       "      <td>7.900000</td>\n",
       "      <td>NaN</td>\n",
       "      <td>1.0</td>\n",
       "      <td>31.60</td>\n",
       "      <td>31.600000</td>\n",
       "      <td>NaN</td>\n",
       "    </tr>\n",
       "    <tr>\n",
       "      <th>(20, 30]</th>\n",
       "      <td>14</td>\n",
       "      <td>67</td>\n",
       "      <td>4.785714</td>\n",
       "      <td>4.079566</td>\n",
       "      <td>14.0</td>\n",
       "      <td>634.34</td>\n",
       "      <td>45.310000</td>\n",
       "      <td>32.614674</td>\n",
       "      <td>14.0</td>\n",
       "      <td>1487.31</td>\n",
       "      <td>106.236429</td>\n",
       "      <td>67.611792</td>\n",
       "    </tr>\n",
       "    <tr>\n",
       "      <th>(30, 40]</th>\n",
       "      <td>16</td>\n",
       "      <td>49</td>\n",
       "      <td>3.062500</td>\n",
       "      <td>2.080665</td>\n",
       "      <td>16.0</td>\n",
       "      <td>470.53</td>\n",
       "      <td>29.408125</td>\n",
       "      <td>24.193430</td>\n",
       "      <td>16.0</td>\n",
       "      <td>1212.46</td>\n",
       "      <td>75.778750</td>\n",
       "      <td>47.646718</td>\n",
       "    </tr>\n",
       "    <tr>\n",
       "      <th>(40, 50]</th>\n",
       "      <td>21</td>\n",
       "      <td>84</td>\n",
       "      <td>4.000000</td>\n",
       "      <td>2.983287</td>\n",
       "      <td>21.0</td>\n",
       "      <td>598.26</td>\n",
       "      <td>28.488571</td>\n",
       "      <td>22.473219</td>\n",
       "      <td>21.0</td>\n",
       "      <td>1804.49</td>\n",
       "      <td>85.928095</td>\n",
       "      <td>66.327822</td>\n",
       "    </tr>\n",
       "    <tr>\n",
       "      <th>(50, 60]</th>\n",
       "      <td>11</td>\n",
       "      <td>49</td>\n",
       "      <td>4.454545</td>\n",
       "      <td>3.012097</td>\n",
       "      <td>11.0</td>\n",
       "      <td>382.81</td>\n",
       "      <td>34.800909</td>\n",
       "      <td>43.469683</td>\n",
       "      <td>11.0</td>\n",
       "      <td>959.28</td>\n",
       "      <td>87.207273</td>\n",
       "      <td>74.282565</td>\n",
       "    </tr>\n",
       "    <tr>\n",
       "      <th>(60, 70]</th>\n",
       "      <td>6</td>\n",
       "      <td>14</td>\n",
       "      <td>2.333333</td>\n",
       "      <td>1.751190</td>\n",
       "      <td>6.0</td>\n",
       "      <td>137.06</td>\n",
       "      <td>22.843333</td>\n",
       "      <td>21.011998</td>\n",
       "      <td>6.0</td>\n",
       "      <td>359.94</td>\n",
       "      <td>59.990000</td>\n",
       "      <td>40.274823</td>\n",
       "    </tr>\n",
       "    <tr>\n",
       "      <th>(70, 80]</th>\n",
       "      <td>1</td>\n",
       "      <td>2</td>\n",
       "      <td>2.000000</td>\n",
       "      <td>NaN</td>\n",
       "      <td>1.0</td>\n",
       "      <td>14.28</td>\n",
       "      <td>14.280000</td>\n",
       "      <td>NaN</td>\n",
       "      <td>1.0</td>\n",
       "      <td>45.22</td>\n",
       "      <td>45.220000</td>\n",
       "      <td>NaN</td>\n",
       "    </tr>\n",
       "  </tbody>\n",
       "</table>\n",
       "</div>"
      ],
      "text/plain": [
       "                          Items                             Discount           \\\n",
       "                  count_nonzero sum      mean       std count_nonzero     sum   \n",
       "Desconto age_bin                                                                \n",
       "0        (10, 20]             1   2  2.000000       NaN           0.0    0.00   \n",
       "         (20, 30]             2   2  1.000000  0.000000           0.0    0.00   \n",
       "         (30, 40]            10  17  1.700000  1.059350           0.0    0.00   \n",
       "         (40, 50]            11  23  2.090909  1.445998           0.0    0.00   \n",
       "         (50, 60]             4   6  1.500000  0.577350           0.0    0.00   \n",
       "         (70, 80]             2   6  3.000000  2.828427           0.0    0.00   \n",
       "1        (10, 20]             1   1  1.000000       NaN           1.0    7.90   \n",
       "         (20, 30]            14  67  4.785714  4.079566          14.0  634.34   \n",
       "         (30, 40]            16  49  3.062500  2.080665          16.0  470.53   \n",
       "         (40, 50]            21  84  4.000000  2.983287          21.0  598.26   \n",
       "         (50, 60]            11  49  4.454545  3.012097          11.0  382.81   \n",
       "         (60, 70]             6  14  2.333333  1.751190           6.0  137.06   \n",
       "         (70, 80]             1   2  2.000000       NaN           1.0   14.28   \n",
       "\n",
       "                                                Sales                       \\\n",
       "                        mean        std count_nonzero      sum        mean   \n",
       "Desconto age_bin                                                             \n",
       "0        (10, 20]   0.000000        NaN           1.0    74.00   74.000000   \n",
       "         (20, 30]   0.000000   0.000000           2.0   118.50   59.250000   \n",
       "         (30, 40]   0.000000   0.000000          10.0   463.50   46.350000   \n",
       "         (40, 50]   0.000000   0.000000          11.0   725.00   65.909091   \n",
       "         (50, 60]   0.000000   0.000000           4.0   261.00   65.250000   \n",
       "         (70, 80]   0.000000   0.000000           2.0   217.75  108.875000   \n",
       "1        (10, 20]   7.900000        NaN           1.0    31.60   31.600000   \n",
       "         (20, 30]  45.310000  32.614674          14.0  1487.31  106.236429   \n",
       "         (30, 40]  29.408125  24.193430          16.0  1212.46   75.778750   \n",
       "         (40, 50]  28.488571  22.473219          21.0  1804.49   85.928095   \n",
       "         (50, 60]  34.800909  43.469683          11.0   959.28   87.207273   \n",
       "         (60, 70]  22.843333  21.011998           6.0   359.94   59.990000   \n",
       "         (70, 80]  14.280000        NaN           1.0    45.22   45.220000   \n",
       "\n",
       "                              \n",
       "                         std  \n",
       "Desconto age_bin              \n",
       "0        (10, 20]        NaN  \n",
       "         (20, 30]  13.788582  \n",
       "         (30, 40]  24.325398  \n",
       "         (40, 50]  40.626850  \n",
       "         (50, 60]  20.430777  \n",
       "         (70, 80]  71.948115  \n",
       "1        (10, 20]        NaN  \n",
       "         (20, 30]  67.611792  \n",
       "         (30, 40]  47.646718  \n",
       "         (40, 50]  66.327822  \n",
       "         (50, 60]  74.282565  \n",
       "         (60, 70]  40.274823  \n",
       "         (70, 80]        NaN  "
      ]
     },
     "execution_count": 77,
     "metadata": {},
     "output_type": "execute_result"
    }
   ],
   "source": [
    "df[['Items','Discount ','Sales', 'Desconto', 'age_bin']].groupby(['Desconto', 'age_bin']).agg([np.count_nonzero,np.sum, np.mean, np.std])\n",
    "\n"
   ]
  },
  {
   "cell_type": "code",
   "execution_count": 72,
   "metadata": {},
   "outputs": [],
   "source": [
    "??np.mean"
   ]
  },
  {
   "cell_type": "code",
   "execution_count": 76,
   "metadata": {},
   "outputs": [],
   "source": [
    "??np.count_nonzero"
   ]
  }
 ],
 "metadata": {
  "kernelspec": {
   "display_name": "Python 3",
   "language": "python",
   "name": "python3"
  },
  "language_info": {
   "codemirror_mode": {
    "name": "ipython",
    "version": 3
   },
   "file_extension": ".py",
   "mimetype": "text/x-python",
   "name": "python",
   "nbconvert_exporter": "python",
   "pygments_lexer": "ipython3",
   "version": "3.5.2"
  }
 },
 "nbformat": 4,
 "nbformat_minor": 4
}
